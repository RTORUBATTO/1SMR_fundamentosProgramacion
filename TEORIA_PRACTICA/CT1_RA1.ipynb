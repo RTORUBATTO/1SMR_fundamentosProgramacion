{
 "cells": [
  {
   "cell_type": "markdown",
   "id": "feebb5fc",
   "metadata": {},
   "source": [
    "# Curso de Fundamentos de Programación (usando Python). Preparate a pasártelo bien programando\n",
    "Este cuaderno cubre los contenidos del curso de 50h adaptados para tareas de administración de sistemas, con ejemplos prácticos relacionados con el sistema operativo, redes y automatización de tareas."
   ]
  },
  {
   "cell_type": "markdown",
   "id": "f1ac8cc5",
   "metadata": {},
   "source": [
    "## 1. Introducción a la programación\n",
    "- La programación ya verás, puede ser muy divertida y te va a permir hacer cosas increibles\n",
    "- Los primeros conceptos que tienes que asimilar son: lenguaje, algoritmo, programa\n",
    "\n"
   ]
  },
  {
   "cell_type": "markdown",
   "id": "d74f3f1c",
   "metadata": {},
   "source": [
    "Prueba este programa"
   ]
  },
  {
   "cell_type": "code",
   "execution_count": null,
   "id": "52cd864b",
   "metadata": {},
   "outputs": [],
   "source": [
    "import os, time, platform, datetime\n",
    "from colorama import Fore, Style, init\n",
    "init(autoreset=True)\n",
    "\n",
    "def escribir_lento(texto, delay=0.01, color=Fore.CYAN):\n",
    "    for letra in texto:\n",
    "        print(color + letra, end='', flush=True)\n",
    "        time.sleep(delay)\n",
    "    print()\n",
    "\n",
    "# Limpiar pantalla\n",
    "os.system('cls' if os.name == 'nt' else 'clear')\n",
    "\n",
    "# Banner animado\n",
    "banner = [\n",
    "    \"██╗  ██╗██╗ ██╗\",\n",
    "    \"██║  ██║██║ ██╗\",\n",
    "    \"███████║██║ ██╗\",\n",
    "    \"██╔══██║██║ ██╗\",\n",
    "    \"██║  ██║██║ ██╗\",\n",
    "    \"╚═╝  ╚═╝╚═╝ --\",\n",
    "]\n",
    "for linea in banner:\n",
    "    escribir_lento(linea, 0.001, Fore.MAGENTA)\n",
    "\n",
    "time.sleep(0.5)\n",
    "escribir_lento(\"\\n ¡Bienvenidos al curso de Python para alumnos de SMR! ✨\\n\", 0.03, Fore.YELLOW)\n",
    "\n",
    "# Mostrar información del sistema\n",
    "escribir_lento(f\"El SSOO en el que me ejecuto es: {platform.system()} {platform.release()}\", 0.03, Fore.GREEN)\n",
    "escribir_lento(f\" y tienen un procesador: {platform.processor()}\", 0.03, Fore.GREEN)\n",
    "escribir_lento(f\"La hora actual: {datetime.datetime.now().strftime('%H:%M:%S')}\", 0.03, Fore.GREEN)\n",
    "\n",
    "# Animación final\n",
    "for i in range(3, 0, -1):\n",
    "    escribir_lento(f\"\\nComenzamos en {i}...\", 0.2, Fore.RED)\n",
    "    time.sleep(0.8)\n",
    "\n",
    "escribir_lento(\"\\n ¡Empezamos el viaje a la programación! \", 0.03, Fore.CYAN)\n"
   ]
  },
  {
   "cell_type": "markdown",
   "id": "b6ae77a3",
   "metadata": {},
   "source": [
    "## Ejemplo 2. Programa para calcular el uso medio de la CPU"
   ]
  },
  {
   "cell_type": "code",
   "execution_count": 3,
   "id": "f6429999",
   "metadata": {},
   "outputs": [
    {
     "name": "stdout",
     "output_type": "stream",
     "text": [
      " Medidas de CPU: [23, 100, 100, 100, 100, 75, 90]\n",
      " Promedio de uso de CPU: 84.00%\n",
      " ALTO uso de CPU. Revisa los procesos.\n"
     ]
    }
   ],
   "source": [
    "# Programa para calcular el uso medio de CPU a partir de varias mediciones\n",
    "\n",
    "#  mediciones de uso de CPU en una lista (en %)\n",
    "uso_cpu = [23, 100, 100, 100, 100, 75, 90]\n",
    "\n",
    "#  Calcular el promedio (media)\n",
    "suma = 0\n",
    "for valor in uso_cpu:\n",
    "    suma += valor\n",
    "\n",
    "media = suma / len(uso_cpu)\n",
    "\n",
    "# Paso 3: Mostrar resultado\n",
    "print(\" Medidas de CPU:\", uso_cpu)\n",
    "print(f\" Promedio de uso de CPU: {media:.2f}%\")\n",
    "\n",
    "# Paso 4: Evaluar el estado\n",
    "if media > 70:\n",
    "    print(\" ALTO uso de CPU. Revisa los procesos.\")\n",
    "elif media > 40:\n",
    "    print(\" Uso de CPU en rango normal.\")\n",
    "else:\n",
    "    print(\"CPU poco usada.\")\n"
   ]
  },
  {
   "cell_type": "markdown",
   "id": "037f4d59",
   "metadata": {},
   "source": [
    "## 2. Elementos de un programa informático\n",
    "- Un programa informático aunque no lo creas tiene pocos elementos! Pero combinados comvenientemente hace que se puedan hacer cosas sorprendentes\n",
    "- Los primeros componentes o elementos importante que tienes que aprender son: Variables, tipos de datos, operadores.\n",
    "- Recuerda que la informática es la ciencia o estudio del tratameinto automatizado de la información digital. Luego de las primeras cosas que tienes que aprender es donde guardamos la información en un programa\n"
   ]
  },
  {
   "cell_type": "markdown",
   "id": "109a4d66",
   "metadata": {},
   "source": [
    "Ejemplo\n",
    "Crea dos variables que representen el espacio en GB usado por /home y /var/log.\n",
    "Calcula:\n",
    "\n",
    "El espacio total ocupado\n",
    "\n",
    "El espacio libre si el disco es de 100 GB\n",
    "Muestra los resultados por pantalla."
   ]
  },
  {
   "cell_type": "code",
   "execution_count": null,
   "id": "3dfff52c",
   "metadata": {},
   "outputs": [],
   "source": [
    "home = 30  # espacio en GB\n",
    "var_log = 12  # espacio en GB\n",
    "\n",
    "# Calcula el espacio total usado\n",
    "# Calcula el espacio libre\n",
    "# Muestra ambos resultados\n"
   ]
  },
  {
   "cell_type": "markdown",
   "id": "2d637cbd",
   "metadata": {},
   "source": [
    "Ejercicio 2: Comparar consumo de CPU\n",
    "\n",
    "Conceptos: operadores de comparación (>, <, ==, !=)\n",
    "\n",
    "Un script debe avisar si el consumo de CPU de un servidor es demasiado alto.\n",
    "\n",
    "Enunciado:\n",
    "\n",
    "Crea una variable cpu_uso (porcentaje de CPU usado).\n",
    "Si el uso es mayor a 80%, muestra ALERTA: Consumo elevado de CPU.\n",
    "Si es menor o igual a 80%, muestra CPU en rango normal."
   ]
  },
  {
   "cell_type": "code",
   "execution_count": null,
   "id": "9a614ae0",
   "metadata": {},
   "outputs": [],
   "source": [
    "cpu_uso = 75\n",
    "\n",
    "# Compara el valor con 80 y muestra el mensaje correspondiente\n"
   ]
  },
  {
   "cell_type": "markdown",
   "id": "052dba61",
   "metadata": {},
   "source": [
    "Ejercicio 3: Verificar múltiples condiciones\n",
    "\n",
    "Conceptos: operadores lógicos (and, or, not)\n",
    "\n",
    " Quieres asegurarte de que el sistema está en condiciones óptimas:\n",
    "\n",
    "La CPU debe estar por debajo del 80%\n",
    "\n",
    "El espacio libre debe ser mayor a 20 GB\n",
    "\n",
    "Enunciado:\n",
    "Usa operadores lógicos para comprobar ambas condiciones y mostrar:\n",
    "\n",
    "Sistema saludable si se cumplen ambas\n",
    "\n",
    "Atención: revisar recursos si alguna condición falla"
   ]
  },
  {
   "cell_type": "code",
   "execution_count": 3,
   "id": "18eabb5e",
   "metadata": {},
   "outputs": [],
   "source": [
    "cpu_uso = 65\n",
    "espacio_libre = 15\n",
    "\n",
    "# Usa and para comprobar ambas condiciones\n"
   ]
  },
  {
   "cell_type": "markdown",
   "id": "4bc0f53a",
   "metadata": {},
   "source": [
    "## Tipos de las variables\n",
    "- ¿Te imaginas comparar churras con merinas? Es decir dos tipos de ovejas que no tienen nada que ver\n",
    "- En informatica pasa lo mismo . No tiene sentido comparar o mezclar : Letras y números"
   ]
  },
  {
   "cell_type": "code",
   "execution_count": null,
   "id": "ef56f067",
   "metadata": {},
   "outputs": [
    {
     "name": "stdout",
     "output_type": "stream",
     "text": [
      "estas comparandos numeros con letras??\n"
     ]
    }
   ],
   "source": [
    "numero= 10\n",
    "letra= '10'\n",
    "\n",
    "if (numero==letra):\n",
    "    print ('iguales')\n",
    "else:\n",
    "    print ('estas comparando numeros con letras??')"
   ]
  },
  {
   "cell_type": "markdown",
   "id": "79d3cede",
   "metadata": {},
   "source": []
  },
  {
   "cell_type": "markdown",
   "id": "28c3e29b",
   "metadata": {},
   "source": [
    "## ¿Qué significa que una variable es de un tipo de terminado?\n",
    "- Puede almacenar un tipo de información (Ej letras o números por ahora)\n",
    "- Tiene un tamaño interno en memoria ( las letras 1 bytes algunos números 4 bytes)\n",
    "- Se pueden hacer una serie de operiones y no otras sobre esa variable (Ej. a una letra no le puedes dividir por 2)"
   ]
  },
  {
   "cell_type": "code",
   "execution_count": null,
   "id": "3edde9f0",
   "metadata": {},
   "outputs": [
    {
     "name": "stdout",
     "output_type": "stream",
     "text": [
      "La variable cpu ocupa 28 bytes en memoria\n",
      "La variable cpu ocupa 50 bytes en memoria\n"
     ]
    }
   ],
   "source": [
    "\n",
    "import sys\n",
    "cpu = 4\n",
    "letra_unidad_disco='c'\n",
    "print(f\"La variable cpu ocupa {sys.getsizeof(cpu)} bytes en memoria\")\n",
    "print(f\"La variable cpu ocupa {sys.getsizeof(letra_unidad_disco)} bytes en memoria\")\n",
    "\n",
    "# OJO el caracter saldrá 50 bytes por el objeto completo"
   ]
  }
 ],
 "metadata": {
  "kernelspec": {
   "display_name": "Python 3",
   "language": "python",
   "name": "python3"
  },
  "language_info": {
   "codemirror_mode": {
    "name": "ipython",
    "version": 3
   },
   "file_extension": ".py",
   "mimetype": "text/x-python",
   "name": "python",
   "nbconvert_exporter": "python",
   "pygments_lexer": "ipython3",
   "version": "3.10.1"
  }
 },
 "nbformat": 4,
 "nbformat_minor": 5
}
