{
 "cells": [
  {
   "cell_type": "markdown",
   "id": "dba23933",
   "metadata": {},
   "source": [
    "## Ejercicio 1 - Nivel: Básico\n",
    "\n",
    "Declara variables que representen:\n",
    "- El nombre de un servidor\n",
    "- Su dirección IP\n",
    "- El sistema operativo instalado\n",
    "\n",
    "Luego imprime la información en pantalla "
   ]
  },
  {
   "cell_type": "code",
   "execution_count": 9,
   "id": "3cd6649b",
   "metadata": {},
   "outputs": [
    {
     "name": "stdout",
     "output_type": "stream",
     "text": [
      "El nombre del servidor es PythonServer La IP del servidor es 192.168.90.2 y su sistema operativo es WindowsServer2016\n"
     ]
    }
   ],
   "source": [
    "# Escribe tu solución aquí\n",
    "nombre_server=\"PythonServer\"\n",
    "IP_server=\"192.168.90.2\"\n",
    "sistema_operativo=\"WindowsServer2016\"\n",
    "\n",
    "print(\"El nombre del servidor es\",nombre_server,\n",
    "      \"La IP del servidor es\",IP_server,\n",
    "      \"y su sistema operativo es\",sistema_operativo)"
   ]
  },
  {
   "cell_type": "markdown",
   "id": "257d1434",
   "metadata": {},
   "source": [
    "## Ejercicio 2 - Nivel: Básico\n",
    "\n",
    "Pide al usuario que escriba su nombre de usuario de red y el grupo al que pertenece.\n",
    "\n",
    "Haz que el programa muestre un mensaje de bienvenida que incluya ambos datos.\n",
    "\n",
    "Como por ejemplo :\n",
    "Bienvenido :usuario perteneciente al :grupo\n"
   ]
  },
  {
   "cell_type": "code",
   "execution_count": 10,
   "id": "bfa0df0e",
   "metadata": {},
   "outputs": [
    {
     "name": "stdout",
     "output_type": "stream",
     "text": [
      "¡Bienvenido! Su nombre de usuario es usuario1 y pertenece al grupo grupo1\n"
     ]
    }
   ],
   "source": [
    "# Escribe tu solución aquí\n",
    "nombre_usuario=input(\"Introduzca su nombre de usuario:\")\n",
    "grupo_usuario=input(\"Introduzca aquí el grupo al que pertenece:\")\n",
    "\n",
    "print(\"¡Bienvenido! Su nombre de usuario es\",nombre_usuario,\"y pertenece al grupo\",grupo_usuario)"
   ]
  },
  {
   "cell_type": "markdown",
   "id": "6bda268d",
   "metadata": {},
   "source": [
    "## Ejercicio 3 - Nivel: Básico\n",
    "\n",
    "Declara dos variables: cantidad_total_usuarios y usuarios_activos.\n",
    "\n",
    "Asigna valores (por ejemplo 10 y 6) y calcula el porcentaje de usuarios activos.\n",
    "Muestra el resultado en pantalla con un mensaje descriptivo."
   ]
  },
  {
   "cell_type": "code",
   "execution_count": null,
   "id": "ae545c8c",
   "metadata": {},
   "outputs": [],
   "source": [
    "# Escribe tu solución aquí"
   ]
  },
  {
   "cell_type": "markdown",
   "id": "0605d833",
   "metadata": {},
   "source": [
    "## Ejercicio 4 - Nivel: Básico\n",
    "\n",
    "Pide al usuario que ingrese una dirección IP.\n",
    "Muestra un mensaje que indique si la IP ingresada pertenece a la red interna 192.168.x.x o no.\n",
    "(No es necesario validar formato, basta con revisar si comienza con \"192.168.\")."
   ]
  },
  {
   "cell_type": "code",
   "execution_count": null,
   "id": "acbb9c73",
   "metadata": {},
   "outputs": [],
   "source": [
    "# Escribe tu solución aquí\n"
   ]
  },
  {
   "cell_type": "markdown",
   "id": "e30bf716",
   "metadata": {},
   "source": [
    "## Ejercicio 5 - Nivel: Intermedio\n",
    "\n",
    "Crea un pequeño menú que permita al usuario seleccionar:\n",
    "1. Mostrar estado del servidor\n",
    "2. Reiniciar servidor\n",
    "3. Salir\n",
    "Usa if/elif/else para mostrar mensajes adecuados.\n",
    "\n",
    "Ejemplo si el usuario selecciona 1 el programa deberá mostrar\n",
    "\n",
    "Opcion 1 . Seleccionada."
   ]
  },
  {
   "cell_type": "code",
   "execution_count": null,
   "id": "3b77bb2d",
   "metadata": {},
   "outputs": [],
   "source": [
    "# Escribe tu solución aquí"
   ]
  },
  {
   "cell_type": "markdown",
   "id": "3f4ce262",
   "metadata": {},
   "source": [
    "## Ejercicio 6 - Nivel: Intermedio\n",
    "\n",
    "Pide al usuario que ingrese la carga de CPU en porcentaje.\n",
    "Si es menor de 50%, imprime \"Carga normal\".\n",
    "Si está entre 50 y 80, imprime \"Carga alta\".\n",
    "Si es mayor de 80, imprime \"Sobrecarga\"."
   ]
  },
  {
   "cell_type": "code",
   "execution_count": null,
   "id": "abc39f5d",
   "metadata": {},
   "outputs": [],
   "source": [
    "# Escribe tu solución aquí"
   ]
  },
  {
   "cell_type": "markdown",
   "id": "5016332b",
   "metadata": {},
   "source": [
    "## Ejercicio 7 - Nivel: Intermedio\n",
    "\n",
    "Pide al usuario una contraseña de administrador. (Asignala a la variable password_introducida)\n",
    "Declara una variable con una contraseña (nombre de la variable password)\n",
    "Muestra si la contraseña coincide o no con la que tiene el programa en memoria.\n",
    "Cuando sea correcta, imprime \"Acceso concedido\"."
   ]
  },
  {
   "cell_type": "code",
   "execution_count": null,
   "id": "1f887506",
   "metadata": {},
   "outputs": [],
   "source": [
    "# Escribe tu solución aquí"
   ]
  }
 ],
 "metadata": {
  "kernelspec": {
   "display_name": "Python 3",
   "language": "python",
   "name": "python3"
  },
  "language_info": {
   "codemirror_mode": {
    "name": "ipython",
    "version": 3
   },
   "file_extension": ".py",
   "mimetype": "text/x-python",
   "name": "python",
   "nbconvert_exporter": "python",
   "pygments_lexer": "ipython3",
   "version": "3.11.9"
  }
 },
 "nbformat": 4,
 "nbformat_minor": 5
}
